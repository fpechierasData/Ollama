{
 "cells": [
  {
   "cell_type": "code",
   "execution_count": 3,
   "metadata": {},
   "outputs": [],
   "source": [
    "# Recharger les bibliothèques après la réinitialisation\n",
    "from docx import Document\n"
   ]
  },
  {
   "cell_type": "code",
   "execution_count": 4,
   "metadata": {},
   "outputs": [],
   "source": [
    "\n",
    "# Création du document\n",
    "doc = Document()\n",
    "\n",
    "# Ajout du titre\n",
    "doc.add_heading(\"📌 Tableau : Types d’IA et leurs usages\", level=1)\n",
    "\n",
    "# Création du tableau (6 lignes x 3 colonnes)\n",
    "table = doc.add_table(rows=6, cols=3)\n",
    "table.style = 'Table Grid'\n",
    "\n",
    "# Remplissage de l'en-tête\n",
    "hdr_cells = table.rows[0].cells\n",
    "hdr_cells[0].text = \"Type d’IA\"\n",
    "hdr_cells[1].text = \"Définition\"\n",
    "hdr_cells[2].text = \"Exemples d’usage\"\n",
    "\n",
    "# Contenu du tableau\n",
    "data = [\n",
    "    [\"🧠 Machine Learning (Apprentissage Automatique)\", \n",
    "     \"Modèles qui apprennent à partir de données pour détecter des tendances et automatiser des décisions.\", \n",
    "     \"📩 Filtrage de courriers indésirables (ex. Gmail)\\n🎯 Systèmes de recommandation (ex. Netflix, Amazon)\\n💳 Détection de fraudes (ex. banques)\"],\n",
    "    \n",
    "    [\"🔬 Deep Learning (Apprentissage Profond)\", \n",
    "     \"Sous-domaine du Machine Learning utilisant des réseaux neuronaux profonds pour reconnaître des motifs complexes dans les données.\", \n",
    "     \"👤 Reconnaissance faciale (ex. déverrouillage de smartphone)\\n🏥 Analyse d’IRM en médecine\\n🌍 Traduction automatique (ex. Google Traduction)\"],\n",
    "    \n",
    "    [\"🤖 IA Générative - Chatbots\", \n",
    "     \"IA capable de simuler des conversations et d'interagir de manière fluide avec les utilisateurs.\", \n",
    "     \"💬 ChatGPT, assistants virtuels (ex. Service client automatisé)\"],\n",
    "    \n",
    "    [\"🎨 IA Générative - Images\", \n",
    "     \"IA générant des images réalistes à partir de descriptions textuelles.\", \n",
    "     \"🖼️ DALL·E, Midjourney, Stable Diffusion (ex. Génération de visuels marketing)\"],\n",
    "    \n",
    "    [\"📄 IA Générative - Texte\", \n",
    "     \"Modèles capables de résumer du texte, générer des articles ou traduire automatiquement.\", \n",
    "     \"📝 Résumé automatique de réunions (ex. IA de transcription)\\n📰 Génération d’articles et de contenus\"]\n",
    "]\n",
    "\n",
    "# Ajout des données au tableau\n",
    "for i, row_data in enumerate(data, start=1):\n",
    "    row_cells = table.rows[i].cells\n",
    "    for j, text in enumerate(row_data):\n",
    "        row_cells[j].text = text\n",
    "\n",
    "file_path_docx = \"Tableau_IA_Guide.docx\"\n",
    "doc.save(file_path_docx)"
   ]
  }
 ],
 "metadata": {
  "kernelspec": {
   "display_name": "Python 3",
   "language": "python",
   "name": "python3"
  },
  "language_info": {
   "codemirror_mode": {
    "name": "ipython",
    "version": 3
   },
   "file_extension": ".py",
   "mimetype": "text/x-python",
   "name": "python",
   "nbconvert_exporter": "python",
   "pygments_lexer": "ipython3",
   "version": "3.11.3"
  }
 },
 "nbformat": 4,
 "nbformat_minor": 2
}
